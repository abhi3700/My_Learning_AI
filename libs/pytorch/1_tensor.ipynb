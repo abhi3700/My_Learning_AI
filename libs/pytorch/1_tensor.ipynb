{
  "nbformat": 4,
  "nbformat_minor": 0,
  "metadata": {
    "colab": {
      "name": "Untitled1.ipynb",
      "provenance": [],
      "collapsed_sections": []
    },
    "kernelspec": {
      "name": "python3",
      "display_name": "Python 3"
    },
    "language_info": {
      "name": "python"
    },
    "accelerator": "TPU"
  },
  "cells": [
    {
      "cell_type": "code",
      "metadata": {
        "id": "lMeCooN3s-L4"
      },
      "source": [
        "import torch\n",
        "import numpy as np"
      ],
      "execution_count": 1,
      "outputs": []
    },
    {
      "cell_type": "code",
      "metadata": {
        "id": "smuijTaTtKvH"
      },
      "source": [
        "%matplotlib inline"
      ],
      "execution_count": 2,
      "outputs": []
    },
    {
      "cell_type": "markdown",
      "metadata": {
        "id": "tigz7sHhx9YT"
      },
      "source": [
        "## Create Tensor"
      ]
    },
    {
      "cell_type": "markdown",
      "metadata": {
        "id": "a4QrXJlnt8V5"
      },
      "source": [
        "### 1. Tensor from data"
      ]
    },
    {
      "cell_type": "code",
      "metadata": {
        "id": "fEnZclgXtXqC"
      },
      "source": [
        "data = [[1, 2], [3, 4]]\n",
        "x_data = torch.tensor(data)"
      ],
      "execution_count": 3,
      "outputs": []
    },
    {
      "cell_type": "code",
      "metadata": {
        "colab": {
          "base_uri": "https://localhost:8080/"
        },
        "id": "BXeYrhvqty4R",
        "outputId": "d9b5e5e6-91f1-41a6-d5d9-2ac1cfcdebfb"
      },
      "source": [
        "# view tensor\n",
        "x_data"
      ],
      "execution_count": 4,
      "outputs": [
        {
          "output_type": "execute_result",
          "data": {
            "text/plain": [
              "tensor([[1, 2],\n",
              "        [3, 4]])"
            ]
          },
          "metadata": {
            "tags": []
          },
          "execution_count": 4
        }
      ]
    },
    {
      "cell_type": "markdown",
      "metadata": {
        "id": "q5wDMemlugBN"
      },
      "source": [
        ""
      ]
    },
    {
      "cell_type": "markdown",
      "metadata": {
        "id": "hGCSIfUaujHk"
      },
      "source": [
        "### 2. Tensor from numpy array"
      ]
    },
    {
      "cell_type": "code",
      "metadata": {
        "id": "A2ZyM5sNt0LX"
      },
      "source": [
        "np_array = np.array(data)\n",
        "x_data = torch.from_numpy(np_array)"
      ],
      "execution_count": 5,
      "outputs": []
    },
    {
      "cell_type": "code",
      "metadata": {
        "colab": {
          "base_uri": "https://localhost:8080/"
        },
        "id": "7ctXI2RNuaTF",
        "outputId": "b4657e2f-6107-49c7-ddb1-cf4cdca84b6d"
      },
      "source": [
        "# view tensor\n",
        "x_data"
      ],
      "execution_count": 6,
      "outputs": [
        {
          "output_type": "execute_result",
          "data": {
            "text/plain": [
              "tensor([[1, 2],\n",
              "        [3, 4]])"
            ]
          },
          "metadata": {
            "tags": []
          },
          "execution_count": 6
        }
      ]
    },
    {
      "cell_type": "markdown",
      "metadata": {
        "id": "ZZzgs362vg04"
      },
      "source": [
        "### 3. Tensor from another tensor"
      ]
    },
    {
      "cell_type": "code",
      "metadata": {
        "colab": {
          "base_uri": "https://localhost:8080/"
        },
        "id": "qFEQadILu4Oy",
        "outputId": "c5451455-03ac-4d64-c1bd-7fbb4fcce056"
      },
      "source": [
        "x_ones = torch.ones_like(x_data)     # retains the properties of x_data\n",
        "print(f'Ones Tensor: \\n{x_ones}')"
      ],
      "execution_count": 7,
      "outputs": [
        {
          "output_type": "stream",
          "text": [
            "Ones Tensor: \n",
            "tensor([[1, 1],\n",
            "        [1, 1]])\n"
          ],
          "name": "stdout"
        }
      ]
    },
    {
      "cell_type": "code",
      "metadata": {
        "colab": {
          "base_uri": "https://localhost:8080/"
        },
        "id": "mqkSqYMnvsqg",
        "outputId": "6570ea89-7f93-4bff-c560-32a9cce27f19"
      },
      "source": [
        "x_rand = torch.rand_like(x_data, dtype=torch.float)      # overrides the datatype of x_data\n",
        "print(f'Random tensor: \\n{x_rand}')"
      ],
      "execution_count": 8,
      "outputs": [
        {
          "output_type": "stream",
          "text": [
            "Random tensor: \n",
            "tensor([[0.2059, 0.7329],\n",
            "        [0.6138, 0.9472]])\n"
          ],
          "name": "stdout"
        }
      ]
    },
    {
      "cell_type": "markdown",
      "metadata": {
        "id": "WsNVH_cUw9AR"
      },
      "source": [
        "### 4. Tensor with a given shape"
      ]
    },
    {
      "cell_type": "code",
      "metadata": {
        "id": "2GqymfVav2Gu"
      },
      "source": [
        "shape = (2, 3)\n",
        "ones_tensor = torch.ones(shape)\n",
        "rand_tensor = torch.rand(shape)\n",
        "zeros_tensor = torch.zeros(shape)"
      ],
      "execution_count": 9,
      "outputs": []
    },
    {
      "cell_type": "code",
      "metadata": {
        "colab": {
          "base_uri": "https://localhost:8080/"
        },
        "id": "mXlUglQWxQXv",
        "outputId": "f06f2071-966a-4e3b-cffb-5ae3b4cbf975"
      },
      "source": [
        "# Output:\n",
        "print(f'Ones Tensor:\\n{ones_tensor}')\n",
        "print(f'Random Tensor:\\n{rand_tensor}')\n",
        "print(f'Zeros Tensor:\\n{zeros_tensor}')"
      ],
      "execution_count": 10,
      "outputs": [
        {
          "output_type": "stream",
          "text": [
            "Ones Tensor:\n",
            "tensor([[1., 1., 1.],\n",
            "        [1., 1., 1.]])\n",
            "Random Tensor:\n",
            "tensor([[0.8495, 0.3925, 0.7415],\n",
            "        [0.3530, 0.2248, 0.7047]])\n",
            "Zeros Tensor:\n",
            "tensor([[0., 0., 0.],\n",
            "        [0., 0., 0.]])\n"
          ],
          "name": "stdout"
        }
      ]
    },
    {
      "cell_type": "markdown",
      "metadata": {
        "id": "WSsyAg1wyPAF"
      },
      "source": [
        "## Tensor Properties"
      ]
    },
    {
      "cell_type": "markdown",
      "metadata": {
        "id": "RNhnnxaCAPlG"
      },
      "source": [
        "### Attributes"
      ]
    },
    {
      "cell_type": "code",
      "metadata": {
        "colab": {
          "base_uri": "https://localhost:8080/"
        },
        "id": "RkHZ4gZVxq02",
        "outputId": "d1538a8e-9730-46bc-a47e-217117f0f1e9"
      },
      "source": [
        "t = torch.rand(3, 4)\n",
        "t"
      ],
      "execution_count": 11,
      "outputs": [
        {
          "output_type": "execute_result",
          "data": {
            "text/plain": [
              "tensor([[0.2108, 0.8336, 0.6877, 0.8411],\n",
              "        [0.5186, 0.6487, 0.2724, 0.4108],\n",
              "        [0.2202, 0.9537, 0.5341, 0.8642]])"
            ]
          },
          "metadata": {
            "tags": []
          },
          "execution_count": 11
        }
      ]
    },
    {
      "cell_type": "code",
      "metadata": {
        "colab": {
          "base_uri": "https://localhost:8080/"
        },
        "id": "WzCDrXq1yNR2",
        "outputId": "1a6f2cfc-5a23-4c0b-f091-e49891aafeba"
      },
      "source": [
        "print(f'Shape of tensor: {t.shape}')\n",
        "print(f'Datatype of tensor: {t.dtype}')\n",
        "print(f'Device tensor is stored on: {t.device}')"
      ],
      "execution_count": 13,
      "outputs": [
        {
          "output_type": "stream",
          "text": [
            "Shape of tensor: torch.Size([3, 4])\n",
            "Datatype of tensor: torch.float32\n",
            "Device tensor is stored on: cpu\n"
          ],
          "name": "stdout"
        }
      ]
    },
    {
      "cell_type": "markdown",
      "metadata": {
        "id": "PzblRpgOA2Yd"
      },
      "source": [
        "### Operations"
      ]
    },
    {
      "cell_type": "markdown",
      "metadata": {
        "id": "fbGIbl1JCuzY"
      },
      "source": [
        "Over 100 tensor operations, including transposing, indexing, slicing, mathematical operations, linear algebra, random sampling, and more are comprehensively described here.\n"
      ]
    },
    {
      "cell_type": "markdown",
      "metadata": {
        "id": "nbtvpXvCC2dP"
      },
      "source": [
        "#### Standard numpy-like indexing and slicing:"
      ]
    },
    {
      "cell_type": "code",
      "metadata": {
        "colab": {
          "base_uri": "https://localhost:8080/"
        },
        "id": "FwqaetNrAuyl",
        "outputId": "79d5e89c-34a1-4f81-ef14-b82aa51eddfb"
      },
      "source": [
        "tensor = torch.ones(4, 4)\n",
        "tensor[:,1] = 0\n",
        "tensor"
      ],
      "execution_count": 14,
      "outputs": [
        {
          "output_type": "execute_result",
          "data": {
            "text/plain": [
              "tensor([[1., 0., 1., 1.],\n",
              "        [1., 0., 1., 1.],\n",
              "        [1., 0., 1., 1.],\n",
              "        [1., 0., 1., 1.]])"
            ]
          },
          "metadata": {
            "tags": []
          },
          "execution_count": 14
        }
      ]
    },
    {
      "cell_type": "markdown",
      "metadata": {
        "id": "YGGj_3yYDPOm"
      },
      "source": [
        "#### Joining tensors "
      ]
    },
    {
      "cell_type": "markdown",
      "metadata": {
        "id": "cM074ycGD9I5"
      },
      "source": [
        "* to concatenate a sequence of tensors along a given dimension\n",
        "* For more, visit [torch.stack](https://pytorch.org/docs/stable/generated/torch.stack.html)"
      ]
    },
    {
      "cell_type": "code",
      "metadata": {
        "colab": {
          "base_uri": "https://localhost:8080/"
        },
        "id": "AZdGNHpBDmjr",
        "outputId": "a7815bd2-8933-4c16-f991-e8b4efd7e09d"
      },
      "source": [
        "t1 = torch.cat([tensor, tensor, tensor], dim=1)\n",
        "print(t1)"
      ],
      "execution_count": 15,
      "outputs": [
        {
          "output_type": "stream",
          "text": [
            "tensor([[1., 0., 1., 1., 1., 0., 1., 1., 1., 0., 1., 1.],\n",
            "        [1., 0., 1., 1., 1., 0., 1., 1., 1., 0., 1., 1.],\n",
            "        [1., 0., 1., 1., 1., 0., 1., 1., 1., 0., 1., 1.],\n",
            "        [1., 0., 1., 1., 1., 0., 1., 1., 1., 0., 1., 1.]])\n"
          ],
          "name": "stdout"
        }
      ]
    },
    {
      "cell_type": "markdown",
      "metadata": {
        "id": "fjGdSfY7Ec1q"
      },
      "source": [
        "#### Multiplying tensors"
      ]
    },
    {
      "cell_type": "markdown",
      "metadata": {
        "id": "K587Oxc8EgMq"
      },
      "source": [
        "* computes the element-wise product"
      ]
    },
    {
      "cell_type": "code",
      "metadata": {
        "colab": {
          "base_uri": "https://localhost:8080/"
        },
        "id": "IvG8XYtZD0EE",
        "outputId": "72e9d466-9997-48d6-df5a-52f0fa7ec41d"
      },
      "source": [
        "print(f'torch.mul(tensor): \\n{torch.mul(tensor, tensor)}')\n",
        "\n",
        "# alternative\n",
        "print(f'tensor*tensor: \\n{tensor*tensor}')"
      ],
      "execution_count": 20,
      "outputs": [
        {
          "output_type": "stream",
          "text": [
            "torch.mul(tensor): \n",
            "tensor([[1., 0., 1., 1.],\n",
            "        [1., 0., 1., 1.],\n",
            "        [1., 0., 1., 1.],\n",
            "        [1., 0., 1., 1.]])\n",
            "tensor*tensor: \n",
            "tensor([[1., 0., 1., 1.],\n",
            "        [1., 0., 1., 1.],\n",
            "        [1., 0., 1., 1.],\n",
            "        [1., 0., 1., 1.]])\n"
          ],
          "name": "stdout"
        }
      ]
    },
    {
      "cell_type": "markdown",
      "metadata": {
        "id": "rRcMnTWKGB8f"
      },
      "source": [
        "* computes the matrix multiplication b/w 2 tensors"
      ]
    },
    {
      "cell_type": "code",
      "metadata": {
        "colab": {
          "base_uri": "https://localhost:8080/"
        },
        "id": "aNj4VstXFnT7",
        "outputId": "0541c4e7-448a-4de3-df38-3bb31276cb1a"
      },
      "source": [
        "print(f'torch.matmul(tensor): \\n{torch.matmul(tensor, tensor.T)}')\n",
        "\n",
        "# alternative\n",
        "print(f'tensor@tensor: \\n{tensor@tensor.T}')"
      ],
      "execution_count": 23,
      "outputs": [
        {
          "output_type": "stream",
          "text": [
            "torch.matmul(tensor): \n",
            "tensor([[3., 3., 3., 3.],\n",
            "        [3., 3., 3., 3.],\n",
            "        [3., 3., 3., 3.],\n",
            "        [3., 3., 3., 3.]])\n",
            "tensor@tensor: \n",
            "tensor([[3., 3., 3., 3.],\n",
            "        [3., 3., 3., 3.],\n",
            "        [3., 3., 3., 3.],\n",
            "        [3., 3., 3., 3.]])\n"
          ],
          "name": "stdout"
        }
      ]
    },
    {
      "cell_type": "markdown",
      "metadata": {
        "id": "gNCzxTfLXVAO"
      },
      "source": [
        "### In-place operations"
      ]
    },
    {
      "cell_type": "markdown",
      "metadata": {
        "id": "Rx6pkBu_Xn2S"
      },
      "source": [
        "Operations that have a _ suffix are in-place. For example: `x.copy_(y)`, `x.t_()`, will change `x`."
      ]
    },
    {
      "cell_type": "code",
      "metadata": {
        "colab": {
          "base_uri": "https://localhost:8080/"
        },
        "id": "PcvfZEGmGPBy",
        "outputId": "8894b490-369a-4cbf-a37a-fff6f880089a"
      },
      "source": [
        "print(tensor, \"\\n\")\n",
        "tensor.add_(5)\n",
        "print(tensor)"
      ],
      "execution_count": 24,
      "outputs": [
        {
          "output_type": "stream",
          "text": [
            "tensor([[1., 0., 1., 1.],\n",
            "        [1., 0., 1., 1.],\n",
            "        [1., 0., 1., 1.],\n",
            "        [1., 0., 1., 1.]]) \n",
            "\n",
            "tensor([[6., 5., 6., 6.],\n",
            "        [6., 5., 6., 6.],\n",
            "        [6., 5., 6., 6.],\n",
            "        [6., 5., 6., 6.]])\n"
          ],
          "name": "stdout"
        }
      ]
    },
    {
      "cell_type": "markdown",
      "metadata": {
        "id": "B95pkzsMYFNp"
      },
      "source": [
        "> In-place operations save some memory, but can be problematic when computing derivatives because of an immediate loss of history. Hence, their use is discouraged."
      ]
    },
    {
      "cell_type": "markdown",
      "metadata": {
        "id": "3omeloXodneJ"
      },
      "source": [
        "## Bridge with NumPy"
      ]
    },
    {
      "cell_type": "markdown",
      "metadata": {
        "id": "QqEV4i1ccfGS"
      },
      "source": [
        "### Tensor to NumPy array"
      ]
    },
    {
      "cell_type": "code",
      "metadata": {
        "id": "eZrqk8kxYDUS"
      },
      "source": [
        "t = torch.ones(5)\n",
        "n = t.numpy()"
      ],
      "execution_count": 25,
      "outputs": []
    },
    {
      "cell_type": "code",
      "metadata": {
        "colab": {
          "base_uri": "https://localhost:8080/"
        },
        "id": "7aWM0Hilc25g",
        "outputId": "39504ce6-c090-4034-be87-e9c4ad1365b9"
      },
      "source": [
        "print(f't: {t}')\n",
        "print(f'n: {n}')"
      ],
      "execution_count": 26,
      "outputs": [
        {
          "output_type": "stream",
          "text": [
            "t: tensor([1., 1., 1., 1., 1.])\n",
            "n: [1. 1. 1. 1. 1.]\n"
          ],
          "name": "stdout"
        }
      ]
    },
    {
      "cell_type": "code",
      "metadata": {
        "colab": {
          "base_uri": "https://localhost:8080/"
        },
        "id": "MP26dm9UdBFf",
        "outputId": "6466cc51-d25e-4569-ee1d-21aeeac6e62c"
      },
      "source": [
        "t.add_(1)     # add 1 to each element & see the change in both tensor & numpy array\n",
        "print(f't: {t}')\n",
        "print(f'n: {n}')"
      ],
      "execution_count": 27,
      "outputs": [
        {
          "output_type": "stream",
          "text": [
            "t: tensor([2., 2., 2., 2., 2.])\n",
            "n: [2. 2. 2. 2. 2.]\n"
          ],
          "name": "stdout"
        }
      ]
    },
    {
      "cell_type": "markdown",
      "metadata": {
        "id": "7AFFEbXscnky"
      },
      "source": [
        "### NumPy array to Tensor"
      ]
    },
    {
      "cell_type": "code",
      "metadata": {
        "id": "5hUHc-locrch"
      },
      "source": [
        "n = np.ones(5)\n",
        "t = torch.from_numpy(n)"
      ],
      "execution_count": 28,
      "outputs": []
    },
    {
      "cell_type": "code",
      "metadata": {
        "colab": {
          "base_uri": "https://localhost:8080/"
        },
        "id": "AXCobDhLdPd_",
        "outputId": "ae2dc830-448d-4616-a95b-a316539d9800"
      },
      "source": [
        "print(f't: {t}')\n",
        "print(f'n: {n}')"
      ],
      "execution_count": 29,
      "outputs": [
        {
          "output_type": "stream",
          "text": [
            "t: tensor([1., 1., 1., 1., 1.], dtype=torch.float64)\n",
            "n: [1. 1. 1. 1. 1.]\n"
          ],
          "name": "stdout"
        }
      ]
    },
    {
      "cell_type": "code",
      "metadata": {
        "colab": {
          "base_uri": "https://localhost:8080/"
        },
        "id": "qpRHymuEdQ2O",
        "outputId": "6841e380-210d-413c-927a-20be2c74a131"
      },
      "source": [
        "np.add(n, 1, out=n)     # add 1 to each elements of array\n",
        "print(f't: {t}')\n",
        "print(f'n: {n}')"
      ],
      "execution_count": 30,
      "outputs": [
        {
          "output_type": "stream",
          "text": [
            "t: tensor([2., 2., 2., 2., 2.], dtype=torch.float64)\n",
            "n: [2. 2. 2. 2. 2.]\n"
          ],
          "name": "stdout"
        }
      ]
    },
    {
      "cell_type": "code",
      "metadata": {
        "id": "mf9Qr6umdeVO"
      },
      "source": [
        ""
      ],
      "execution_count": null,
      "outputs": []
    }
  ]
}